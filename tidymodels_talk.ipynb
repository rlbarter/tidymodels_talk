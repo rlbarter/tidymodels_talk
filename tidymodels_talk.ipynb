{
 "cells": [
  {
   "cell_type": "markdown",
   "metadata": {
    "slideshow": {
     "slide_type": "slide"
    }
   },
   "source": [
    "# Tidymodels: tidy machine learning in R\n",
    "Rebecca Barter (@rlbarter)\n",
    "\n",
    "### Resources: \n",
    "Tidy Modeling with R book (https://www.tmwr.org/) by Max Kuhn and Julia Silge\n",
    "\n",
    "My blog post (http://www.rebeccabarter.com/blog/2020-03-25_machine_learning/)"
   ]
  },
  {
   "cell_type": "markdown",
   "metadata": {
    "slideshow": {
     "slide_type": "slide"
    }
   },
   "source": [
    "# Introducing the data"
   ]
  },
  {
   "cell_type": "code",
   "execution_count": 1,
   "metadata": {
    "slideshow": {
     "slide_type": "-"
    }
   },
   "outputs": [
    {
     "name": "stderr",
     "output_type": "stream",
     "text": [
      "── \u001b[1mAttaching packages\u001b[22m ─────────────────────────────────────── tidyverse 1.3.0 ──\n",
      "\n",
      "\u001b[32m✔\u001b[39m \u001b[34mggplot2\u001b[39m 3.3.3     \u001b[32m✔\u001b[39m \u001b[34mpurrr  \u001b[39m 0.3.4\n",
      "\u001b[32m✔\u001b[39m \u001b[34mtibble \u001b[39m 3.0.6     \u001b[32m✔\u001b[39m \u001b[34mdplyr  \u001b[39m 1.0.4\n",
      "\u001b[32m✔\u001b[39m \u001b[34mtidyr  \u001b[39m 1.1.2     \u001b[32m✔\u001b[39m \u001b[34mstringr\u001b[39m 1.4.0\n",
      "\u001b[32m✔\u001b[39m \u001b[34mreadr  \u001b[39m 1.3.1     \u001b[32m✔\u001b[39m \u001b[34mforcats\u001b[39m 0.5.0\n",
      "\n",
      "── \u001b[1mConflicts\u001b[22m ────────────────────────────────────────── tidyverse_conflicts() ──\n",
      "\u001b[31m✖\u001b[39m \u001b[34mdplyr\u001b[39m::\u001b[32mfilter()\u001b[39m masks \u001b[34mstats\u001b[39m::filter()\n",
      "\u001b[31m✖\u001b[39m \u001b[34mdplyr\u001b[39m::\u001b[32mlag()\u001b[39m    masks \u001b[34mstats\u001b[39m::lag()\n",
      "\n"
     ]
    }
   ],
   "source": [
    "library(tidyverse)\n",
    "library(mlbench)\n",
    "data(PimaIndiansDiabetes)\n",
    "diabetes_orig <- PimaIndiansDiabetes"
   ]
  },
  {
   "cell_type": "code",
   "execution_count": 2,
   "metadata": {
    "slideshow": {
     "slide_type": "fragment"
    }
   },
   "outputs": [
    {
     "data": {
      "text/html": [
       "<table>\n",
       "<caption>A data.frame: 6 × 9</caption>\n",
       "<thead>\n",
       "\t<tr><th></th><th scope=col>pregnant</th><th scope=col>glucose</th><th scope=col>pressure</th><th scope=col>triceps</th><th scope=col>insulin</th><th scope=col>mass</th><th scope=col>pedigree</th><th scope=col>age</th><th scope=col>diabetes</th></tr>\n",
       "\t<tr><th></th><th scope=col>&lt;dbl&gt;</th><th scope=col>&lt;dbl&gt;</th><th scope=col>&lt;dbl&gt;</th><th scope=col>&lt;dbl&gt;</th><th scope=col>&lt;dbl&gt;</th><th scope=col>&lt;dbl&gt;</th><th scope=col>&lt;dbl&gt;</th><th scope=col>&lt;dbl&gt;</th><th scope=col>&lt;fct&gt;</th></tr>\n",
       "</thead>\n",
       "<tbody>\n",
       "\t<tr><th scope=row>1</th><td>6</td><td>148</td><td>72</td><td>35</td><td>  0</td><td>33.6</td><td>0.627</td><td>50</td><td>pos</td></tr>\n",
       "\t<tr><th scope=row>2</th><td>1</td><td> 85</td><td>66</td><td>29</td><td>  0</td><td>26.6</td><td>0.351</td><td>31</td><td>neg</td></tr>\n",
       "\t<tr><th scope=row>3</th><td>8</td><td>183</td><td>64</td><td> 0</td><td>  0</td><td>23.3</td><td>0.672</td><td>32</td><td>pos</td></tr>\n",
       "\t<tr><th scope=row>4</th><td>1</td><td> 89</td><td>66</td><td>23</td><td> 94</td><td>28.1</td><td>0.167</td><td>21</td><td>neg</td></tr>\n",
       "\t<tr><th scope=row>5</th><td>0</td><td>137</td><td>40</td><td>35</td><td>168</td><td>43.1</td><td>2.288</td><td>33</td><td>pos</td></tr>\n",
       "\t<tr><th scope=row>6</th><td>5</td><td>116</td><td>74</td><td> 0</td><td>  0</td><td>25.6</td><td>0.201</td><td>30</td><td>neg</td></tr>\n",
       "</tbody>\n",
       "</table>\n"
      ],
      "text/latex": [
       "A data.frame: 6 × 9\n",
       "\\begin{tabular}{r|lllllllll}\n",
       "  & pregnant & glucose & pressure & triceps & insulin & mass & pedigree & age & diabetes\\\\\n",
       "  & <dbl> & <dbl> & <dbl> & <dbl> & <dbl> & <dbl> & <dbl> & <dbl> & <fct>\\\\\n",
       "\\hline\n",
       "\t1 & 6 & 148 & 72 & 35 &   0 & 33.6 & 0.627 & 50 & pos\\\\\n",
       "\t2 & 1 &  85 & 66 & 29 &   0 & 26.6 & 0.351 & 31 & neg\\\\\n",
       "\t3 & 8 & 183 & 64 &  0 &   0 & 23.3 & 0.672 & 32 & pos\\\\\n",
       "\t4 & 1 &  89 & 66 & 23 &  94 & 28.1 & 0.167 & 21 & neg\\\\\n",
       "\t5 & 0 & 137 & 40 & 35 & 168 & 43.1 & 2.288 & 33 & pos\\\\\n",
       "\t6 & 5 & 116 & 74 &  0 &   0 & 25.6 & 0.201 & 30 & neg\\\\\n",
       "\\end{tabular}\n"
      ],
      "text/markdown": [
       "\n",
       "A data.frame: 6 × 9\n",
       "\n",
       "| <!--/--> | pregnant &lt;dbl&gt; | glucose &lt;dbl&gt; | pressure &lt;dbl&gt; | triceps &lt;dbl&gt; | insulin &lt;dbl&gt; | mass &lt;dbl&gt; | pedigree &lt;dbl&gt; | age &lt;dbl&gt; | diabetes &lt;fct&gt; |\n",
       "|---|---|---|---|---|---|---|---|---|---|\n",
       "| 1 | 6 | 148 | 72 | 35 |   0 | 33.6 | 0.627 | 50 | pos |\n",
       "| 2 | 1 |  85 | 66 | 29 |   0 | 26.6 | 0.351 | 31 | neg |\n",
       "| 3 | 8 | 183 | 64 |  0 |   0 | 23.3 | 0.672 | 32 | pos |\n",
       "| 4 | 1 |  89 | 66 | 23 |  94 | 28.1 | 0.167 | 21 | neg |\n",
       "| 5 | 0 | 137 | 40 | 35 | 168 | 43.1 | 2.288 | 33 | pos |\n",
       "| 6 | 5 | 116 | 74 |  0 |   0 | 25.6 | 0.201 | 30 | neg |\n",
       "\n"
      ],
      "text/plain": [
       "  pregnant glucose pressure triceps insulin mass pedigree age diabetes\n",
       "1 6        148     72       35        0     33.6 0.627    50  pos     \n",
       "2 1         85     66       29        0     26.6 0.351    31  neg     \n",
       "3 8        183     64        0        0     23.3 0.672    32  pos     \n",
       "4 1         89     66       23       94     28.1 0.167    21  neg     \n",
       "5 0        137     40       35      168     43.1 2.288    33  pos     \n",
       "6 5        116     74        0        0     25.6 0.201    30  neg     "
      ]
     },
     "metadata": {},
     "output_type": "display_data"
    }
   ],
   "source": [
    "head(diabetes_orig)"
   ]
  },
  {
   "cell_type": "code",
   "execution_count": 3,
   "metadata": {
    "slideshow": {
     "slide_type": "fragment"
    }
   },
   "outputs": [
    {
     "name": "stderr",
     "output_type": "stream",
     "text": [
      "`stat_bin()` using `bins = 30`. Pick better value with `binwidth`.\n",
      "\n"
     ]
    },
    {
     "data": {
      "image/png": "[encoded data removed]",
      "text/plain": [
       "plot without title"
      ]
     },
     "metadata": {
      "image/png": {
       "height": 420,
       "width": 420
      }
     },
     "output_type": "display_data"
    }
   ],
   "source": [
    "ggplot(diabetes_orig) +\n",
    "  geom_histogram(aes(x = triceps))"
   ]
  },
  {
   "cell_type": "code",
   "execution_count": 4,
   "metadata": {
    "slideshow": {
     "slide_type": "fragment"
    }
   },
   "outputs": [],
   "source": [
    "# replace 0s with NA\n",
    "diabetes_clean <- diabetes_orig %>%\n",
    "  mutate_at(vars(triceps, glucose, pressure, insulin, mass), \n",
    "            ~na_if(., 0)) %>%\n",
    "# add a numeric version of the variable\n",
    "  mutate(diabetes_numeric = if_else(diabetes == \"pos\", 1, 0))"
   ]
  },
  {
   "cell_type": "code",
   "execution_count": 5,
   "metadata": {
    "slideshow": {
     "slide_type": "fragment"
    }
   },
   "outputs": [
    {
     "data": {
      "text/html": [
       "<table>\n",
       "<caption>A data.frame: 6 × 10</caption>\n",
       "<thead>\n",
       "\t<tr><th></th><th scope=col>pregnant</th><th scope=col>glucose</th><th scope=col>pressure</th><th scope=col>triceps</th><th scope=col>insulin</th><th scope=col>mass</th><th scope=col>pedigree</th><th scope=col>age</th><th scope=col>diabetes</th><th scope=col>diabetes_numeric</th></tr>\n",
       "\t<tr><th></th><th scope=col>&lt;dbl&gt;</th><th scope=col>&lt;dbl&gt;</th><th scope=col>&lt;dbl&gt;</th><th scope=col>&lt;dbl&gt;</th><th scope=col>&lt;dbl&gt;</th><th scope=col>&lt;dbl&gt;</th><th scope=col>&lt;dbl&gt;</th><th scope=col>&lt;dbl&gt;</th><th scope=col>&lt;fct&gt;</th><th scope=col>&lt;dbl&gt;</th></tr>\n",
       "</thead>\n",
       "<tbody>\n",
       "\t<tr><th scope=row>1</th><td>6</td><td>148</td><td>72</td><td>35</td><td> NA</td><td>33.6</td><td>0.627</td><td>50</td><td>pos</td><td>1</td></tr>\n",
       "\t<tr><th scope=row>2</th><td>1</td><td> 85</td><td>66</td><td>29</td><td> NA</td><td>26.6</td><td>0.351</td><td>31</td><td>neg</td><td>0</td></tr>\n",
       "\t<tr><th scope=row>3</th><td>8</td><td>183</td><td>64</td><td>NA</td><td> NA</td><td>23.3</td><td>0.672</td><td>32</td><td>pos</td><td>1</td></tr>\n",
       "\t<tr><th scope=row>4</th><td>1</td><td> 89</td><td>66</td><td>23</td><td> 94</td><td>28.1</td><td>0.167</td><td>21</td><td>neg</td><td>0</td></tr>\n",
       "\t<tr><th scope=row>5</th><td>0</td><td>137</td><td>40</td><td>35</td><td>168</td><td>43.1</td><td>2.288</td><td>33</td><td>pos</td><td>1</td></tr>\n",
       "\t<tr><th scope=row>6</th><td>5</td><td>116</td><td>74</td><td>NA</td><td> NA</td><td>25.6</td><td>0.201</td><td>30</td><td>neg</td><td>0</td></tr>\n",
       "</tbody>\n",
       "</table>\n"
      ],
      "text/latex": [
       "A data.frame: 6 × 10\n",
       "\\begin{tabular}{r|llllllllll}\n",
       "  & pregnant & glucose & pressure & triceps & insulin & mass & pedigree & age & diabetes & diabetes\\_numeric\\\\\n",
       "  & <dbl> & <dbl> & <dbl> & <dbl> & <dbl> & <dbl> & <dbl> & <dbl> & <fct> & <dbl>\\\\\n",
       "\\hline\n",
       "\t1 & 6 & 148 & 72 & 35 &  NA & 33.6 & 0.627 & 50 & pos & 1\\\\\n",
       "\t2 & 1 &  85 & 66 & 29 &  NA & 26.6 & 0.351 & 31 & neg & 0\\\\\n",
       "\t3 & 8 & 183 & 64 & NA &  NA & 23.3 & 0.672 & 32 & pos & 1\\\\\n",
       "\t4 & 1 &  89 & 66 & 23 &  94 & 28.1 & 0.167 & 21 & neg & 0\\\\\n",
       "\t5 & 0 & 137 & 40 & 35 & 168 & 43.1 & 2.288 & 33 & pos & 1\\\\\n",
       "\t6 & 5 & 116 & 74 & NA &  NA & 25.6 & 0.201 & 30 & neg & 0\\\\\n",
       "\\end{tabular}\n"
      ],
      "text/markdown": [
       "\n",
       "A data.frame: 6 × 10\n",
       "\n",
       "| <!--/--> | pregnant &lt;dbl&gt; | glucose &lt;dbl&gt; | pressure &lt;dbl&gt; | triceps &lt;dbl&gt; | insulin &lt;dbl&gt; | mass &lt;dbl&gt; | pedigree &lt;dbl&gt; | age &lt;dbl&gt; | diabetes &lt;fct&gt; | diabetes_numeric &lt;dbl&gt; |\n",
       "|---|---|---|---|---|---|---|---|---|---|---|\n",
       "| 1 | 6 | 148 | 72 | 35 |  NA | 33.6 | 0.627 | 50 | pos | 1 |\n",
       "| 2 | 1 |  85 | 66 | 29 |  NA | 26.6 | 0.351 | 31 | neg | 0 |\n",
       "| 3 | 8 | 183 | 64 | NA |  NA | 23.3 | 0.672 | 32 | pos | 1 |\n",
       "| 4 | 1 |  89 | 66 | 23 |  94 | 28.1 | 0.167 | 21 | neg | 0 |\n",
       "| 5 | 0 | 137 | 40 | 35 | 168 | 43.1 | 2.288 | 33 | pos | 1 |\n",
       "| 6 | 5 | 116 | 74 | NA |  NA | 25.6 | 0.201 | 30 | neg | 0 |\n",
       "\n"
      ],
      "text/plain": [
       "  pregnant glucose pressure triceps insulin mass pedigree age diabetes\n",
       "1 6        148     72       35       NA     33.6 0.627    50  pos     \n",
       "2 1         85     66       29       NA     26.6 0.351    31  neg     \n",
       "3 8        183     64       NA       NA     23.3 0.672    32  pos     \n",
       "4 1         89     66       23       94     28.1 0.167    21  neg     \n",
       "5 0        137     40       35      168     43.1 2.288    33  pos     \n",
       "6 5        116     74       NA       NA     25.6 0.201    30  neg     \n",
       "  diabetes_numeric\n",
       "1 1               \n",
       "2 0               \n",
       "3 1               \n",
       "4 0               \n",
       "5 1               \n",
       "6 0               "
      ]
     },
     "metadata": {},
     "output_type": "display_data"
    }
   ],
   "source": [
    "head(diabetes_clean)"
   ]
  },
  {
   "cell_type": "markdown",
   "metadata": {
    "slideshow": {
     "slide_type": "slide"
    }
   },
   "source": [
    "# Why tidymodels?\n",
    "\n",
    "Let's say we want to fit several models:"
   ]
  },
  {
   "cell_type": "code",
   "execution_count": 6,
   "metadata": {
    "scrolled": false,
    "slideshow": {
     "slide_type": "-"
    }
   },
   "outputs": [
    {
     "name": "stderr",
     "output_type": "stream",
     "text": [
      "Loading required package: Matrix\n",
      "\n",
      "\n",
      "Attaching package: ‘Matrix’\n",
      "\n",
      "\n",
      "The following objects are masked from ‘package:tidyr’:\n",
      "\n",
      "    expand, pack, unpack\n",
      "\n",
      "\n",
      "Loaded glmnet 4.0\n",
      "\n",
      "randomForest 4.6-14\n",
      "\n",
      "Type rfNews() to see new features/changes/bug fixes.\n",
      "\n",
      "\n",
      "Attaching package: ‘randomForest’\n",
      "\n",
      "\n",
      "The following object is masked from ‘package:dplyr’:\n",
      "\n",
      "    combine\n",
      "\n",
      "\n",
      "The following object is masked from ‘package:ggplot2’:\n",
      "\n",
      "    margin\n",
      "\n",
      "\n",
      "\n",
      "Attaching package: ‘ranger’\n",
      "\n",
      "\n",
      "The following object is masked from ‘package:randomForest’:\n",
      "\n",
      "    importance\n",
      "\n",
      "\n",
      "Loading required package: bitops\n",
      "\n",
      "Loading required package: igraph\n",
      "\n",
      "\n",
      "Attaching package: ‘igraph’\n",
      "\n",
      "\n",
      "The following objects are masked from ‘package:dplyr’:\n",
      "\n",
      "    as_data_frame, groups, union\n",
      "\n",
      "\n",
      "The following objects are masked from ‘package:purrr’:\n",
      "\n",
      "    compose, simplify\n",
      "\n",
      "\n",
      "The following object is masked from ‘package:tidyr’:\n",
      "\n",
      "    crossing\n",
      "\n",
      "\n",
      "The following object is masked from ‘package:tibble’:\n",
      "\n",
      "    as_data_frame\n",
      "\n",
      "\n",
      "The following objects are masked from ‘package:stats’:\n",
      "\n",
      "    decompose, spectrum\n",
      "\n",
      "\n",
      "The following object is masked from ‘package:base’:\n",
      "\n",
      "    union\n",
      "\n",
      "\n",
      "\n",
      "Attaching package: ‘bnstruct’\n",
      "\n",
      "\n",
      "The following object is masked from ‘package:e1071’:\n",
      "\n",
      "    impute\n",
      "\n",
      "\n",
      "The following object is masked from ‘package:tidyr’:\n",
      "\n",
      "    complete\n",
      "\n",
      "\n"
     ]
    }
   ],
   "source": [
    "library(glmnet)\n",
    "library(randomForest)\n",
    "library(ranger)\n",
    "library(e1071)\n",
    "library(bnstruct, lib.loc = \"MyRlibs\")"
   ]
  },
  {
   "cell_type": "markdown",
   "metadata": {
    "slideshow": {
     "slide_type": "fragment"
    }
   },
   "source": [
    "First, I'd have to do some imputation preparation"
   ]
  },
  {
   "cell_type": "code",
   "execution_count": 7,
   "metadata": {},
   "outputs": [],
   "source": [
    "# create numeric matrix\n",
    "diabetes_numeric_matrix <- diabetes_clean %>% \n",
    "  select_if(is.numeric) %>%\n",
    "  as.matrix"
   ]
  },
  {
   "cell_type": "markdown",
   "metadata": {
    "slideshow": {
     "slide_type": "fragment"
    }
   },
   "source": [
    "Then I'd have to actually impute them and do some annoying conversions"
   ]
  },
  {
   "cell_type": "code",
   "execution_count": 8,
   "metadata": {
    "slideshow": {
     "slide_type": "-"
    }
   },
   "outputs": [
    {
     "data": {
      "text/html": [
       "<table>\n",
       "<caption>A tibble: 6 × 10</caption>\n",
       "<thead>\n",
       "\t<tr><th scope=col>pregnant</th><th scope=col>glucose</th><th scope=col>pressure</th><th scope=col>triceps</th><th scope=col>insulin</th><th scope=col>mass</th><th scope=col>pedigree</th><th scope=col>age</th><th scope=col>diabetes_numeric</th><th scope=col>diabetes</th></tr>\n",
       "\t<tr><th scope=col>&lt;dbl&gt;</th><th scope=col>&lt;dbl&gt;</th><th scope=col>&lt;dbl&gt;</th><th scope=col>&lt;dbl&gt;</th><th scope=col>&lt;dbl&gt;</th><th scope=col>&lt;dbl&gt;</th><th scope=col>&lt;dbl&gt;</th><th scope=col>&lt;dbl&gt;</th><th scope=col>&lt;dbl&gt;</th><th scope=col>&lt;fct&gt;</th></tr>\n",
       "</thead>\n",
       "<tbody>\n",
       "\t<tr><td>6</td><td>148</td><td>72</td><td>35</td><td>130</td><td>33.6</td><td>0.627</td><td>50</td><td>1</td><td>pos</td></tr>\n",
       "\t<tr><td>1</td><td> 85</td><td>66</td><td>29</td><td>196</td><td>26.6</td><td>0.351</td><td>31</td><td>0</td><td>neg</td></tr>\n",
       "\t<tr><td>8</td><td>183</td><td>64</td><td>30</td><td>495</td><td>23.3</td><td>0.672</td><td>32</td><td>1</td><td>pos</td></tr>\n",
       "\t<tr><td>1</td><td> 89</td><td>66</td><td>23</td><td> 94</td><td>28.1</td><td>0.167</td><td>21</td><td>0</td><td>neg</td></tr>\n",
       "\t<tr><td>0</td><td>137</td><td>40</td><td>35</td><td>168</td><td>43.1</td><td>2.288</td><td>33</td><td>1</td><td>pos</td></tr>\n",
       "\t<tr><td>5</td><td>116</td><td>74</td><td>21</td><td> 23</td><td>25.6</td><td>0.201</td><td>30</td><td>0</td><td>neg</td></tr>\n",
       "</tbody>\n",
       "</table>\n"
      ],
      "text/latex": [
       "A tibble: 6 × 10\n",
       "\\begin{tabular}{llllllllll}\n",
       " pregnant & glucose & pressure & triceps & insulin & mass & pedigree & age & diabetes\\_numeric & diabetes\\\\\n",
       " <dbl> & <dbl> & <dbl> & <dbl> & <dbl> & <dbl> & <dbl> & <dbl> & <dbl> & <fct>\\\\\n",
       "\\hline\n",
       "\t 6 & 148 & 72 & 35 & 130 & 33.6 & 0.627 & 50 & 1 & pos\\\\\n",
       "\t 1 &  85 & 66 & 29 & 196 & 26.6 & 0.351 & 31 & 0 & neg\\\\\n",
       "\t 8 & 183 & 64 & 30 & 495 & 23.3 & 0.672 & 32 & 1 & pos\\\\\n",
       "\t 1 &  89 & 66 & 23 &  94 & 28.1 & 0.167 & 21 & 0 & neg\\\\\n",
       "\t 0 & 137 & 40 & 35 & 168 & 43.1 & 2.288 & 33 & 1 & pos\\\\\n",
       "\t 5 & 116 & 74 & 21 &  23 & 25.6 & 0.201 & 30 & 0 & neg\\\\\n",
       "\\end{tabular}\n"
      ],
      "text/markdown": [
       "\n",
       "A tibble: 6 × 10\n",
       "\n",
       "| pregnant &lt;dbl&gt; | glucose &lt;dbl&gt; | pressure &lt;dbl&gt; | triceps &lt;dbl&gt; | insulin &lt;dbl&gt; | mass &lt;dbl&gt; | pedigree &lt;dbl&gt; | age &lt;dbl&gt; | diabetes_numeric &lt;dbl&gt; | diabetes &lt;fct&gt; |\n",
       "|---|---|---|---|---|---|---|---|---|---|\n",
       "| 6 | 148 | 72 | 35 | 130 | 33.6 | 0.627 | 50 | 1 | pos |\n",
       "| 1 |  85 | 66 | 29 | 196 | 26.6 | 0.351 | 31 | 0 | neg |\n",
       "| 8 | 183 | 64 | 30 | 495 | 23.3 | 0.672 | 32 | 1 | pos |\n",
       "| 1 |  89 | 66 | 23 |  94 | 28.1 | 0.167 | 21 | 0 | neg |\n",
       "| 0 | 137 | 40 | 35 | 168 | 43.1 | 2.288 | 33 | 1 | pos |\n",
       "| 5 | 116 | 74 | 21 |  23 | 25.6 | 0.201 | 30 | 0 | neg |\n",
       "\n"
      ],
      "text/plain": [
       "  pregnant glucose pressure triceps insulin mass pedigree age diabetes_numeric\n",
       "1 6        148     72       35      130     33.6 0.627    50  1               \n",
       "2 1         85     66       29      196     26.6 0.351    31  0               \n",
       "3 8        183     64       30      495     23.3 0.672    32  1               \n",
       "4 1         89     66       23       94     28.1 0.167    21  0               \n",
       "5 0        137     40       35      168     43.1 2.288    33  1               \n",
       "6 5        116     74       21       23     25.6 0.201    30  0               \n",
       "  diabetes\n",
       "1 pos     \n",
       "2 neg     \n",
       "3 pos     \n",
       "4 neg     \n",
       "5 pos     \n",
       "6 neg     "
      ]
     },
     "metadata": {},
     "output_type": "display_data"
    }
   ],
   "source": [
    "# impute numeric matrix\n",
    "diabetes_imputed <- knn.impute(diabetes_numeric_matrix, \n",
    "                               k = 10) %>%\n",
    "  # convert back to tibble\n",
    "  as_tibble %>%\n",
    "  # add diabetes factor variable back in\n",
    "  mutate(diabetes = diabetes_clean$diabetes)\n",
    "head(diabetes_imputed)"
   ]
  },
  {
   "cell_type": "markdown",
   "metadata": {
    "slideshow": {
     "slide_type": "fragment"
    }
   },
   "source": [
    "Logistic regression:"
   ]
  },
  {
   "cell_type": "code",
   "execution_count": null,
   "metadata": {
    "slideshow": {
     "slide_type": "-"
    }
   },
   "outputs": [],
   "source": [
    "glm(diabetes ~ pregnant + glucose, \n",
    "    data = diabetes_imputed, \n",
    "    family = \"binomial\")"
   ]
  },
  {
   "cell_type": "markdown",
   "metadata": {
    "slideshow": {
     "slide_type": "-"
    }
   },
   "source": [
    "Penalized logistic regression:"
   ]
  },
  {
   "cell_type": "code",
   "execution_count": null,
   "metadata": {
    "slideshow": {
     "slide_type": "-"
    }
   },
   "outputs": [],
   "source": [
    "glmnet(x = as.matrix(diabetes_imputed[, c(\"pregnant\", \"glucose\")]), \n",
    "       y = diabetes_imputed$diabetes, \n",
    "       family = \"binomial\",\n",
    "       alpha = 1)"
   ]
  },
  {
   "cell_type": "markdown",
   "metadata": {
    "slideshow": {
     "slide_type": "-"
    }
   },
   "source": [
    "Random forest:"
   ]
  },
  {
   "cell_type": "code",
   "execution_count": null,
   "metadata": {
    "slideshow": {
     "slide_type": "-"
    }
   },
   "outputs": [],
   "source": [
    "randomForest(x = diabetes_imputed[, c(\"pregnant\", \"glucose\")], \n",
    "             y = diabetes_imputed$diabetes)"
   ]
  },
  {
   "cell_type": "markdown",
   "metadata": {
    "slideshow": {
     "slide_type": "-"
    }
   },
   "source": [
    "A different implementation of random forest:"
   ]
  },
  {
   "cell_type": "code",
   "execution_count": null,
   "metadata": {
    "slideshow": {
     "slide_type": "-"
    }
   },
   "outputs": [],
   "source": [
    "ranger(diabetes ~ pregnant + glucose, \n",
    "       data = diabetes_imputed)"
   ]
  },
  {
   "cell_type": "markdown",
   "metadata": {
    "slideshow": {
     "slide_type": "-"
    }
   },
   "source": [
    "SVM"
   ]
  },
  {
   "cell_type": "code",
   "execution_count": null,
   "metadata": {
    "slideshow": {
     "slide_type": "-"
    }
   },
   "outputs": [],
   "source": [
    "svm(x = diabetes_imputed[, c(\"pregnant\", \"glucose\")], \n",
    "    y = diabetes_imputed$diabetes)"
   ]
  },
  {
   "cell_type": "markdown",
   "metadata": {
    "slideshow": {
     "slide_type": "slide"
    }
   },
   "source": [
    "## Tidymodels\n",
    "\n",
    "Tidymodels gives us a consistent way to:\n",
    "\n",
    "1. Split into train/test set\n",
    "\n",
    "1. Define a recipe for pre-processing\n",
    "\n",
    "1. Specify the model\n",
    "\n",
    "1. Tune the parameters\n",
    "\n",
    "1. Evaluate and compare models\n",
    "\n",
    "1. Generate predictions using your final model\n",
    "\n",
    "1. Variable importance "
   ]
  },
  {
   "cell_type": "markdown",
   "metadata": {
    "slideshow": {
     "slide_type": "slide"
    }
   },
   "source": [
    "Just like the tidyverse, you can load everything with just one package:"
   ]
  },
  {
   "cell_type": "code",
   "execution_count": 9,
   "metadata": {
    "slideshow": {
     "slide_type": "-"
    }
   },
   "outputs": [
    {
     "name": "stderr",
     "output_type": "stream",
     "text": [
      "── \u001b[1mAttaching packages\u001b[22m ────────────────────────────────────── tidymodels 0.1.2 ──\n",
      "\n",
      "\u001b[32m✔\u001b[39m \u001b[34mbroom    \u001b[39m 0.7.5      \u001b[32m✔\u001b[39m \u001b[34mrecipes  \u001b[39m 0.1.15\n",
      "\u001b[32m✔\u001b[39m \u001b[34mdials    \u001b[39m 0.0.9      \u001b[32m✔\u001b[39m \u001b[34mrsample  \u001b[39m 0.0.9 \n",
      "\u001b[32m✔\u001b[39m \u001b[34minfer    \u001b[39m 0.5.4      \u001b[32m✔\u001b[39m \u001b[34mtune     \u001b[39m 0.1.2 \n",
      "\u001b[32m✔\u001b[39m \u001b[34mmodeldata\u001b[39m 0.1.0      \u001b[32m✔\u001b[39m \u001b[34mworkflows\u001b[39m 0.2.1 \n",
      "\u001b[32m✔\u001b[39m \u001b[34mparsnip  \u001b[39m 0.1.5      \u001b[32m✔\u001b[39m \u001b[34myardstick\u001b[39m 0.0.7 \n",
      "\n",
      "── \u001b[1mConflicts\u001b[22m ───────────────────────────────────────── tidymodels_conflicts() ──\n",
      "\u001b[31m✖\u001b[39m \u001b[34migraph\u001b[39m::\u001b[32mas_data_frame()\u001b[39m masks \u001b[34mdplyr\u001b[39m::as_data_frame(), \u001b[34mtibble\u001b[39m::as_data_frame()\n",
      "\u001b[31m✖\u001b[39m \u001b[34mbroom\u001b[39m::\u001b[32mbootstrap()\u001b[39m      masks \u001b[34mbnstruct\u001b[39m::bootstrap()\n",
      "\u001b[31m✖\u001b[39m \u001b[34mrandomForest\u001b[39m::\u001b[32mcombine()\u001b[39m masks \u001b[34mdplyr\u001b[39m::combine()\n",
      "\u001b[31m✖\u001b[39m \u001b[34mbnstruct\u001b[39m::\u001b[32mcomplete()\u001b[39m    masks \u001b[34mtidyr\u001b[39m::complete()\n",
      "\u001b[31m✖\u001b[39m \u001b[34migraph\u001b[39m::\u001b[32mcompose()\u001b[39m       masks \u001b[34mpurrr\u001b[39m::compose()\n",
      "\u001b[31m✖\u001b[39m \u001b[34migraph\u001b[39m::\u001b[32mcrossing()\u001b[39m      masks \u001b[34mtidyr\u001b[39m::crossing()\n",
      "\u001b[31m✖\u001b[39m \u001b[34mdials\u001b[39m::\u001b[32mdegree()\u001b[39m         masks \u001b[34migraph\u001b[39m::degree()\n",
      "\u001b[31m✖\u001b[39m \u001b[34mscales\u001b[39m::\u001b[32mdiscard()\u001b[39m       masks \u001b[34mpurrr\u001b[39m::discard()\n",
      "\u001b[31m✖\u001b[39m \u001b[34mMatrix\u001b[39m::\u001b[32mexpand()\u001b[39m        masks \u001b[34mtidyr\u001b[39m::expand()\n",
      "\u001b[31m✖\u001b[39m \u001b[34mdplyr\u001b[39m::\u001b[32mfilter()\u001b[39m         masks \u001b[34mstats\u001b[39m::filter()\n",
      "\u001b[31m✖\u001b[39m \u001b[34mrecipes\u001b[39m::\u001b[32mfixed()\u001b[39m        masks \u001b[34mstringr\u001b[39m::fixed()\n",
      "\u001b[31m✖\u001b[39m \u001b[34migraph\u001b[39m::\u001b[32mgroups()\u001b[39m        masks \u001b[34mdplyr\u001b[39m::groups()\n",
      "\u001b[31m✖\u001b[39m \u001b[34mdplyr\u001b[39m::\u001b[32mlag()\u001b[39m            masks \u001b[34mstats\u001b[39m::lag()\n",
      "\u001b[31m✖\u001b[39m \u001b[34mrandomForest\u001b[39m::\u001b[32mmargin()\u001b[39m  masks \u001b[34mggplot2\u001b[39m::margin()\n",
      "\u001b[31m✖\u001b[39m \u001b[34mdials\u001b[39m::\u001b[32mneighbors()\u001b[39m      masks \u001b[34migraph\u001b[39m::neighbors()\n",
      "\u001b[31m✖\u001b[39m \u001b[34mMatrix\u001b[39m::\u001b[32mpack()\u001b[39m          masks \u001b[34mtidyr\u001b[39m::pack()\n",
      "\u001b[31m✖\u001b[39m \u001b[34mrsample\u001b[39m::\u001b[32mpermutations()\u001b[39m masks \u001b[34me1071\u001b[39m::permutations()\n",
      "\u001b[31m✖\u001b[39m \u001b[34migraph\u001b[39m::\u001b[32msimplify()\u001b[39m      masks \u001b[34mpurrr\u001b[39m::simplify()\n",
      "\u001b[31m✖\u001b[39m \u001b[34myardstick\u001b[39m::\u001b[32mspec()\u001b[39m       masks \u001b[34mreadr\u001b[39m::spec()\n",
      "\u001b[31m✖\u001b[39m \u001b[34mrecipes\u001b[39m::\u001b[32mstep()\u001b[39m         masks \u001b[34mstats\u001b[39m::step()\n",
      "\u001b[31m✖\u001b[39m \u001b[34mtune\u001b[39m::\u001b[32mtune()\u001b[39m            masks \u001b[34me1071\u001b[39m::tune()\n",
      "\u001b[31m✖\u001b[39m \u001b[34mMatrix\u001b[39m::\u001b[32munpack()\u001b[39m        masks \u001b[34mtidyr\u001b[39m::unpack()\n",
      "\u001b[31m✖\u001b[39m \u001b[34mrecipes\u001b[39m::\u001b[32mupdate()\u001b[39m       masks \u001b[34mMatrix\u001b[39m::update(), \u001b[34mstats\u001b[39m::update()\n",
      "\n"
     ]
    }
   ],
   "source": [
    "library(tidymodels)"
   ]
  },
  {
   "cell_type": "markdown",
   "metadata": {
    "slideshow": {
     "slide_type": "slide"
    }
   },
   "source": [
    "# Where we're heading: the final workflow"
   ]
  },
  {
   "cell_type": "code",
   "execution_count": null,
   "metadata": {},
   "outputs": [],
   "source": [
    "# set the workflow\n",
    "rf_workflow <- workflow() %>%\n",
    "  # add the recipe\n",
    "  add_recipe(diabetes_recipe) %>%\n",
    "  # add the model\n",
    "  add_model(rf_model)"
   ]
  },
  {
   "cell_type": "code",
   "execution_count": null,
   "metadata": {
    "slideshow": {
     "slide_type": "fragment"
    }
   },
   "outputs": [],
   "source": [
    "# fit the workflow model\n",
    "final_model <- fit(rf_workflow, diabetes_clean)"
   ]
  },
  {
   "cell_type": "code",
   "execution_count": null,
   "metadata": {
    "slideshow": {
     "slide_type": "fragment"
    }
   },
   "outputs": [],
   "source": [
    "# use the fitted model for prediction\n",
    "predict(final_model, new_data = new_diabetes_data)"
   ]
  },
  {
   "cell_type": "markdown",
   "metadata": {
    "slideshow": {
     "slide_type": "slide"
    }
   },
   "source": [
    "# Splitting into train/test"
   ]
  },
  {
   "cell_type": "code",
   "execution_count": 10,
   "metadata": {
    "slideshow": {
     "slide_type": "fragment"
    }
   },
   "outputs": [],
   "source": [
    "set.seed(234589)\n",
    "# split the data into trainng (75%) and testing (25%)\n",
    "diabetes_split <- initial_split(diabetes_clean, prop = 0.7)"
   ]
  },
  {
   "cell_type": "code",
   "execution_count": 11,
   "metadata": {},
   "outputs": [
    {
     "data": {
      "text/plain": [
       "<Analysis/Assess/Total>\n",
       "<538/230/768>"
      ]
     },
     "metadata": {},
     "output_type": "display_data"
    }
   ],
   "source": [
    "diabetes_split"
   ]
  },
  {
   "cell_type": "markdown",
   "metadata": {
    "slideshow": {
     "slide_type": "fragment"
    }
   },
   "source": [
    "## Extracting the training and test sets"
   ]
  },
  {
   "cell_type": "code",
   "execution_count": 12,
   "metadata": {
    "slideshow": {
     "slide_type": "-"
    }
   },
   "outputs": [],
   "source": [
    "diabetes_train <- training(diabetes_split)\n",
    "diabetes_test <- testing(diabetes_split)"
   ]
  },
  {
   "cell_type": "code",
   "execution_count": 13,
   "metadata": {
    "slideshow": {
     "slide_type": "fragment"
    }
   },
   "outputs": [
    {
     "data": {
      "text/html": [
       "<style>\n",
       ".list-inline {list-style: none; margin:0; padding: 0}\n",
       ".list-inline>li {display: inline-block}\n",
       ".list-inline>li:not(:last-child)::after {content: \"\\00b7\"; padding: 0 .5ex}\n",
       "</style>\n",
       "<ol class=list-inline><li>538</li><li>10</li></ol>\n"
      ],
      "text/latex": [
       "\\begin{enumerate*}\n",
       "\\item 538\n",
       "\\item 10\n",
       "\\end{enumerate*}\n"
      ],
      "text/markdown": [
       "1. 538\n",
       "2. 10\n",
       "\n",
       "\n"
      ],
      "text/plain": [
       "[1] 538  10"
      ]
     },
     "metadata": {},
     "output_type": "display_data"
    }
   ],
   "source": [
    "dim(diabetes_train)"
   ]
  },
  {
   "cell_type": "code",
   "execution_count": 14,
   "metadata": {
    "slideshow": {
     "slide_type": "-"
    }
   },
   "outputs": [
    {
     "data": {
      "text/html": [
       "<style>\n",
       ".list-inline {list-style: none; margin:0; padding: 0}\n",
       ".list-inline>li {display: inline-block}\n",
       ".list-inline>li:not(:last-child)::after {content: \"\\00b7\"; padding: 0 .5ex}\n",
       "</style>\n",
       "<ol class=list-inline><li>230</li><li>10</li></ol>\n"
      ],
      "text/latex": [
       "\\begin{enumerate*}\n",
       "\\item 230\n",
       "\\item 10\n",
       "\\end{enumerate*}\n"
      ],
      "text/markdown": [
       "1. 230\n",
       "2. 10\n",
       "\n",
       "\n"
      ],
      "text/plain": [
       "[1] 230  10"
      ]
     },
     "metadata": {},
     "output_type": "display_data"
    }
   ],
   "source": [
    "dim(diabetes_test)"
   ]
  },
  {
   "cell_type": "markdown",
   "metadata": {
    "slideshow": {
     "slide_type": "slide"
    }
   },
   "source": [
    "# Define a recipe"
   ]
  },
  {
   "cell_type": "code",
   "execution_count": 15,
   "metadata": {},
   "outputs": [],
   "source": [
    "# define the recipe\n",
    "diabetes_recipe <- \n",
    "  # which consists of the formula (outcome ~ predictors)\n",
    "  recipe(diabetes ~ pregnant + glucose + pressure + triceps + \n",
    "           insulin + mass + pedigree + age, \n",
    "         data = diabetes_clean) %>%\n",
    "  # and some pre-processing steps\n",
    "  step_normalize(all_numeric()) %>%\n",
    "  step_knnimpute(all_predictors())"
   ]
  },
  {
   "cell_type": "code",
   "execution_count": 16,
   "metadata": {},
   "outputs": [
    {
     "data": {
      "text/plain": [
       "Data Recipe\n",
       "\n",
       "Inputs:\n",
       "\n",
       "      role #variables\n",
       "   outcome          1\n",
       " predictor          8\n",
       "\n",
       "Operations:\n",
       "\n",
       "Centering and scaling for all_numeric()\n",
       "K-nearest neighbor imputation for all_predictors()"
      ]
     },
     "metadata": {},
     "output_type": "display_data"
    }
   ],
   "source": [
    "diabetes_recipe"
   ]
  },
  {
   "cell_type": "markdown",
   "metadata": {
    "slideshow": {
     "slide_type": "fragment"
    }
   },
   "source": [
    "Note: We used `data = diabetes_clean` here. Why not `data = diabetes_train`? Does it matter?\n",
    "\n",
    "Hint: This is setting up for pre-processing but hasn't performed the pre-processing yet!"
   ]
  },
  {
   "cell_type": "markdown",
   "metadata": {
    "slideshow": {
     "slide_type": "fragment"
    }
   },
   "source": [
    "## OPTIONAL: Applying the recipe\n",
    "\n",
    "You need to \"prep\" the recipe on a dataset before baking with it!"
   ]
  },
  {
   "cell_type": "code",
   "execution_count": 17,
   "metadata": {},
   "outputs": [],
   "source": [
    "diabetes_recipe_prepped <- diabetes_recipe %>%\n",
    "  prep(diabetes_train)"
   ]
  },
  {
   "cell_type": "code",
   "execution_count": 18,
   "metadata": {
    "slideshow": {
     "slide_type": "fragment"
    }
   },
   "outputs": [],
   "source": [
    "diabetes_preprocessed_train <- bake(diabetes_recipe_prepped, new_data = NULL)"
   ]
  },
  {
   "cell_type": "code",
   "execution_count": 19,
   "metadata": {},
   "outputs": [
    {
     "data": {
      "text/html": [
       "<table>\n",
       "<caption>A tibble: 6 × 9</caption>\n",
       "<thead>\n",
       "\t<tr><th scope=col>pregnant</th><th scope=col>glucose</th><th scope=col>pressure</th><th scope=col>triceps</th><th scope=col>insulin</th><th scope=col>mass</th><th scope=col>pedigree</th><th scope=col>age</th><th scope=col>diabetes</th></tr>\n",
       "\t<tr><th scope=col>&lt;dbl&gt;</th><th scope=col>&lt;dbl&gt;</th><th scope=col>&lt;dbl&gt;</th><th scope=col>&lt;dbl&gt;</th><th scope=col>&lt;dbl&gt;</th><th scope=col>&lt;dbl&gt;</th><th scope=col>&lt;dbl&gt;</th><th scope=col>&lt;dbl&gt;</th><th scope=col>&lt;fct&gt;</th></tr>\n",
       "</thead>\n",
       "<tbody>\n",
       "\t<tr><td> 0.6670982</td><td> 0.8324250</td><td>-0.04685081</td><td> 0.62683387</td><td> 0.37213110</td><td> 0.1921970</td><td> 0.5624373</td><td> 1.3498127</td><td>pos</td></tr>\n",
       "\t<tr><td>-0.8122869</td><td>-1.2237776</td><td>-0.52463625</td><td> 0.04715349</td><td>-0.96455284</td><td>-0.8228586</td><td>-0.3541839</td><td>-0.2193657</td><td>neg</td></tr>\n",
       "\t<tr><td> 1.2588522</td><td> 1.9747598</td><td>-0.68389806</td><td> 0.35631636</td><td> 1.16056578</td><td>-1.3013848</td><td> 0.7118863</td><td>-0.1367773</td><td>pos</td></tr>\n",
       "\t<tr><td>-1.1081640</td><td> 0.4734055</td><td>-2.59503983</td><td> 0.62683387</td><td> 0.08321244</td><td> 1.5697723</td><td> 6.0787694</td><td>-0.0541890</td><td>pos</td></tr>\n",
       "\t<tr><td> 0.3712212</td><td>-0.2119954</td><td> 0.11241101</td><td>-0.68710833</td><td>-0.41630357</td><td>-0.9678665</td><td>-0.8523475</td><td>-0.3019540</td><td>neg</td></tr>\n",
       "\t<tr><td>-0.5164099</td><td> 2.4316937</td><td>-0.20611262</td><td> 1.59296784</td><td> 3.34660098</td><td>-0.2573276</td><td>-0.9951544</td><td> 1.5975777</td><td>pos</td></tr>\n",
       "</tbody>\n",
       "</table>\n"
      ],
      "text/latex": [
       "A tibble: 6 × 9\n",
       "\\begin{tabular}{lllllllll}\n",
       " pregnant & glucose & pressure & triceps & insulin & mass & pedigree & age & diabetes\\\\\n",
       " <dbl> & <dbl> & <dbl> & <dbl> & <dbl> & <dbl> & <dbl> & <dbl> & <fct>\\\\\n",
       "\\hline\n",
       "\t  0.6670982 &  0.8324250 & -0.04685081 &  0.62683387 &  0.37213110 &  0.1921970 &  0.5624373 &  1.3498127 & pos\\\\\n",
       "\t -0.8122869 & -1.2237776 & -0.52463625 &  0.04715349 & -0.96455284 & -0.8228586 & -0.3541839 & -0.2193657 & neg\\\\\n",
       "\t  1.2588522 &  1.9747598 & -0.68389806 &  0.35631636 &  1.16056578 & -1.3013848 &  0.7118863 & -0.1367773 & pos\\\\\n",
       "\t -1.1081640 &  0.4734055 & -2.59503983 &  0.62683387 &  0.08321244 &  1.5697723 &  6.0787694 & -0.0541890 & pos\\\\\n",
       "\t  0.3712212 & -0.2119954 &  0.11241101 & -0.68710833 & -0.41630357 & -0.9678665 & -0.8523475 & -0.3019540 & neg\\\\\n",
       "\t -0.5164099 &  2.4316937 & -0.20611262 &  1.59296784 &  3.34660098 & -0.2573276 & -0.9951544 &  1.5975777 & pos\\\\\n",
       "\\end{tabular}\n"
      ],
      "text/markdown": [
       "\n",
       "A tibble: 6 × 9\n",
       "\n",
       "| pregnant &lt;dbl&gt; | glucose &lt;dbl&gt; | pressure &lt;dbl&gt; | triceps &lt;dbl&gt; | insulin &lt;dbl&gt; | mass &lt;dbl&gt; | pedigree &lt;dbl&gt; | age &lt;dbl&gt; | diabetes &lt;fct&gt; |\n",
       "|---|---|---|---|---|---|---|---|---|\n",
       "|  0.6670982 |  0.8324250 | -0.04685081 |  0.62683387 |  0.37213110 |  0.1921970 |  0.5624373 |  1.3498127 | pos |\n",
       "| -0.8122869 | -1.2237776 | -0.52463625 |  0.04715349 | -0.96455284 | -0.8228586 | -0.3541839 | -0.2193657 | neg |\n",
       "|  1.2588522 |  1.9747598 | -0.68389806 |  0.35631636 |  1.16056578 | -1.3013848 |  0.7118863 | -0.1367773 | pos |\n",
       "| -1.1081640 |  0.4734055 | -2.59503983 |  0.62683387 |  0.08321244 |  1.5697723 |  6.0787694 | -0.0541890 | pos |\n",
       "|  0.3712212 | -0.2119954 |  0.11241101 | -0.68710833 | -0.41630357 | -0.9678665 | -0.8523475 | -0.3019540 | neg |\n",
       "| -0.5164099 |  2.4316937 | -0.20611262 |  1.59296784 |  3.34660098 | -0.2573276 | -0.9951544 |  1.5975777 | pos |\n",
       "\n"
      ],
      "text/plain": [
       "  pregnant   glucose    pressure    triceps     insulin     mass      \n",
       "1  0.6670982  0.8324250 -0.04685081  0.62683387  0.37213110  0.1921970\n",
       "2 -0.8122869 -1.2237776 -0.52463625  0.04715349 -0.96455284 -0.8228586\n",
       "3  1.2588522  1.9747598 -0.68389806  0.35631636  1.16056578 -1.3013848\n",
       "4 -1.1081640  0.4734055 -2.59503983  0.62683387  0.08321244  1.5697723\n",
       "5  0.3712212 -0.2119954  0.11241101 -0.68710833 -0.41630357 -0.9678665\n",
       "6 -0.5164099  2.4316937 -0.20611262  1.59296784  3.34660098 -0.2573276\n",
       "  pedigree   age        diabetes\n",
       "1  0.5624373  1.3498127 pos     \n",
       "2 -0.3541839 -0.2193657 neg     \n",
       "3  0.7118863 -0.1367773 pos     \n",
       "4  6.0787694 -0.0541890 pos     \n",
       "5 -0.8523475 -0.3019540 neg     \n",
       "6 -0.9951544  1.5975777 pos     "
      ]
     },
     "metadata": {},
     "output_type": "display_data"
    }
   ],
   "source": [
    "head(diabetes_preprocessed_train)"
   ]
  },
  {
   "cell_type": "code",
   "execution_count": 20,
   "metadata": {
    "slideshow": {
     "slide_type": "fragment"
    }
   },
   "outputs": [],
   "source": [
    "diabetes_preprocessed_test <- bake(diabetes_recipe_prepped, new_data = diabetes_test)"
   ]
  },
  {
   "cell_type": "code",
   "execution_count": 21,
   "metadata": {},
   "outputs": [
    {
     "data": {
      "text/html": [
       "<table>\n",
       "<caption>A data.frame: 6 × 10</caption>\n",
       "<thead>\n",
       "\t<tr><th></th><th scope=col>pregnant</th><th scope=col>glucose</th><th scope=col>pressure</th><th scope=col>triceps</th><th scope=col>insulin</th><th scope=col>mass</th><th scope=col>pedigree</th><th scope=col>age</th><th scope=col>diabetes</th><th scope=col>diabetes_numeric</th></tr>\n",
       "\t<tr><th></th><th scope=col>&lt;dbl&gt;</th><th scope=col>&lt;dbl&gt;</th><th scope=col>&lt;dbl&gt;</th><th scope=col>&lt;dbl&gt;</th><th scope=col>&lt;dbl&gt;</th><th scope=col>&lt;dbl&gt;</th><th scope=col>&lt;dbl&gt;</th><th scope=col>&lt;dbl&gt;</th><th scope=col>&lt;fct&gt;</th><th scope=col>&lt;dbl&gt;</th></tr>\n",
       "</thead>\n",
       "<tbody>\n",
       "\t<tr><th scope=row>4</th><td> 1</td><td> 89</td><td>66</td><td>23</td><td> 94</td><td>28.1</td><td>0.167</td><td>21</td><td>neg</td><td>0</td></tr>\n",
       "\t<tr><th scope=row>7</th><td> 3</td><td> 78</td><td>50</td><td>32</td><td> 88</td><td>31.0</td><td>0.248</td><td>26</td><td>pos</td><td>1</td></tr>\n",
       "\t<tr><th scope=row>8</th><td>10</td><td>115</td><td>NA</td><td>NA</td><td> NA</td><td>35.3</td><td>0.134</td><td>29</td><td>neg</td><td>0</td></tr>\n",
       "\t<tr><th scope=row>12</th><td>10</td><td>168</td><td>74</td><td>NA</td><td> NA</td><td>38.0</td><td>0.537</td><td>34</td><td>pos</td><td>1</td></tr>\n",
       "\t<tr><th scope=row>19</th><td> 1</td><td>103</td><td>30</td><td>38</td><td> 83</td><td>43.3</td><td>0.183</td><td>33</td><td>neg</td><td>0</td></tr>\n",
       "\t<tr><th scope=row>21</th><td> 3</td><td>126</td><td>88</td><td>41</td><td>235</td><td>39.3</td><td>0.704</td><td>27</td><td>neg</td><td>0</td></tr>\n",
       "</tbody>\n",
       "</table>\n"
      ],
      "text/latex": [
       "A data.frame: 6 × 10\n",
       "\\begin{tabular}{r|llllllllll}\n",
       "  & pregnant & glucose & pressure & triceps & insulin & mass & pedigree & age & diabetes & diabetes\\_numeric\\\\\n",
       "  & <dbl> & <dbl> & <dbl> & <dbl> & <dbl> & <dbl> & <dbl> & <dbl> & <fct> & <dbl>\\\\\n",
       "\\hline\n",
       "\t4 &  1 &  89 & 66 & 23 &  94 & 28.1 & 0.167 & 21 & neg & 0\\\\\n",
       "\t7 &  3 &  78 & 50 & 32 &  88 & 31.0 & 0.248 & 26 & pos & 1\\\\\n",
       "\t8 & 10 & 115 & NA & NA &  NA & 35.3 & 0.134 & 29 & neg & 0\\\\\n",
       "\t12 & 10 & 168 & 74 & NA &  NA & 38.0 & 0.537 & 34 & pos & 1\\\\\n",
       "\t19 &  1 & 103 & 30 & 38 &  83 & 43.3 & 0.183 & 33 & neg & 0\\\\\n",
       "\t21 &  3 & 126 & 88 & 41 & 235 & 39.3 & 0.704 & 27 & neg & 0\\\\\n",
       "\\end{tabular}\n"
      ],
      "text/markdown": [
       "\n",
       "A data.frame: 6 × 10\n",
       "\n",
       "| <!--/--> | pregnant &lt;dbl&gt; | glucose &lt;dbl&gt; | pressure &lt;dbl&gt; | triceps &lt;dbl&gt; | insulin &lt;dbl&gt; | mass &lt;dbl&gt; | pedigree &lt;dbl&gt; | age &lt;dbl&gt; | diabetes &lt;fct&gt; | diabetes_numeric &lt;dbl&gt; |\n",
       "|---|---|---|---|---|---|---|---|---|---|---|\n",
       "| 4 |  1 |  89 | 66 | 23 |  94 | 28.1 | 0.167 | 21 | neg | 0 |\n",
       "| 7 |  3 |  78 | 50 | 32 |  88 | 31.0 | 0.248 | 26 | pos | 1 |\n",
       "| 8 | 10 | 115 | NA | NA |  NA | 35.3 | 0.134 | 29 | neg | 0 |\n",
       "| 12 | 10 | 168 | 74 | NA |  NA | 38.0 | 0.537 | 34 | pos | 1 |\n",
       "| 19 |  1 | 103 | 30 | 38 |  83 | 43.3 | 0.183 | 33 | neg | 0 |\n",
       "| 21 |  3 | 126 | 88 | 41 | 235 | 39.3 | 0.704 | 27 | neg | 0 |\n",
       "\n"
      ],
      "text/plain": [
       "   pregnant glucose pressure triceps insulin mass pedigree age diabetes\n",
       "4   1        89     66       23       94     28.1 0.167    21  neg     \n",
       "7   3        78     50       32       88     31.0 0.248    26  pos     \n",
       "8  10       115     NA       NA       NA     35.3 0.134    29  neg     \n",
       "12 10       168     74       NA       NA     38.0 0.537    34  pos     \n",
       "19  1       103     30       38       83     43.3 0.183    33  neg     \n",
       "21  3       126     88       41      235     39.3 0.704    27  neg     \n",
       "   diabetes_numeric\n",
       "4  0               \n",
       "7  1               \n",
       "8  0               \n",
       "12 1               \n",
       "19 0               \n",
       "21 0               "
      ]
     },
     "metadata": {},
     "output_type": "display_data"
    }
   ],
   "source": [
    "head(diabetes_test)"
   ]
  },
  {
   "cell_type": "markdown",
   "metadata": {
    "slideshow": {
     "slide_type": "slide"
    }
   },
   "source": [
    "# Summary so far\n",
    "\n",
    "Recall that we're heading towards"
   ]
  },
  {
   "cell_type": "code",
   "execution_count": 22,
   "metadata": {},
   "outputs": [
    {
     "ename": "ERROR",
     "evalue": "Error in is_model_spec(spec): object 'rf_model' not found\n",
     "output_type": "error",
     "traceback": [
      "Error in is_model_spec(spec): object 'rf_model' not found\nTraceback:\n",
      "1. workflow() %>% add_recipe(diabetes_recipe) %>% add_model(rf_model)",
      "2. add_model(., rf_model)",
      "3. new_action_model(spec, formula)",
      "4. is_model_spec(spec)"
     ]
    }
   ],
   "source": [
    "# set the workflow\n",
    "rf_workflow <- workflow() %>%\n",
    "  # add the recipe\n",
    "  add_recipe(diabetes_recipe) %>%\n",
    "  # add the model\n",
    "  add_model(rf_model)"
   ]
  },
  {
   "cell_type": "markdown",
   "metadata": {
    "slideshow": {
     "slide_type": "fragment"
    }
   },
   "source": [
    "We still need to define a model!"
   ]
  },
  {
   "cell_type": "markdown",
   "metadata": {
    "slideshow": {
     "slide_type": "slide"
    }
   },
   "source": [
    "# Specify a model\n",
    "\n",
    "You need to specify:\n",
    "1. The model type\n",
    "1. The arguments/parameters\n",
    "1. The \"engine\" (e.g. package)\n",
    "1. The \"mode\" (classification or regression?)"
   ]
  },
  {
   "cell_type": "code",
   "execution_count": 23,
   "metadata": {
    "slideshow": {
     "slide_type": "fragment"
    }
   },
   "outputs": [],
   "source": [
    "rf_model <- \n",
    "  # model type\n",
    "  rand_forest() %>%\n",
    "  # arguments\n",
    "  set_args(mtry = 4) %>%\n",
    "  # engine/package that underlies the model\n",
    "  set_engine(\"ranger\", importance = \"impurity\") %>%\n",
    "  # mode\n",
    "  set_mode(\"classification\") "
   ]
  },
  {
   "cell_type": "code",
   "execution_count": 24,
   "metadata": {
    "slideshow": {
     "slide_type": "fragment"
    }
   },
   "outputs": [],
   "source": [
    "# logistic regression:\n",
    "lr_model <- \n",
    "  # specify that the model is a logistic_reg\n",
    "  logistic_reg() %>%\n",
    "  # select the engine/package that underlies the model\n",
    "  set_engine(\"glm\") %>%\n",
    "  # choose either the continuous regression or binary classification mode\n",
    "  set_mode(\"classification\") "
   ]
  },
  {
   "cell_type": "markdown",
   "metadata": {
    "slideshow": {
     "slide_type": "slide"
    }
   },
   "source": [
    "# Workflows: combining recipes and models"
   ]
  },
  {
   "cell_type": "code",
   "execution_count": 26,
   "metadata": {},
   "outputs": [],
   "source": [
    "# set the workflow\n",
    "rf_workflow <- workflow() %>%\n",
    "  # add the recipe\n",
    "  add_recipe(diabetes_recipe) %>%\n",
    "  # add the model\n",
    "  add_model(rf_model)"
   ]
  },
  {
   "cell_type": "code",
   "execution_count": 27,
   "metadata": {},
   "outputs": [
    {
     "data": {
      "text/plain": [
       "══ Workflow ════════════════════════════════════════════════════════════════════\n",
       "\u001b[3mPreprocessor:\u001b[23m Recipe\n",
       "\u001b[3mModel:\u001b[23m rand_forest()\n",
       "\n",
       "── Preprocessor ────────────────────────────────────────────────────────────────\n",
       "2 Recipe Steps\n",
       "\n",
       "● step_normalize()\n",
       "● step_knnimpute()\n",
       "\n",
       "── Model ───────────────────────────────────────────────────────────────────────\n",
       "Random Forest Model Specification (classification)\n",
       "\n",
       "Main Arguments:\n",
       "  mtry = 4\n",
       "\n",
       "Engine-Specific Arguments:\n",
       "  importance = impurity\n",
       "\n",
       "Computational engine: ranger \n"
      ]
     },
     "metadata": {},
     "output_type": "display_data"
    }
   ],
   "source": [
    "rf_workflow"
   ]
  },
  {
   "cell_type": "markdown",
   "metadata": {
    "slideshow": {
     "slide_type": "fragment"
    }
   },
   "source": [
    "Fit the model:"
   ]
  },
  {
   "cell_type": "code",
   "execution_count": 28,
   "metadata": {
    "slideshow": {
     "slide_type": "-"
    }
   },
   "outputs": [],
   "source": [
    "rf_fit <- fit(rf_workflow, diabetes_train) \n",
    "# note: this will run prep(diabetes_recipe, diabetes_train)"
   ]
  },
  {
   "cell_type": "code",
   "execution_count": 29,
   "metadata": {},
   "outputs": [
    {
     "data": {
      "text/plain": [
       "══ Workflow [trained] ══════════════════════════════════════════════════════════\n",
       "\u001b[3mPreprocessor:\u001b[23m Recipe\n",
       "\u001b[3mModel:\u001b[23m rand_forest()\n",
       "\n",
       "── Preprocessor ────────────────────────────────────────────────────────────────\n",
       "2 Recipe Steps\n",
       "\n",
       "● step_normalize()\n",
       "● step_knnimpute()\n",
       "\n",
       "── Model ───────────────────────────────────────────────────────────────────────\n",
       "Ranger result\n",
       "\n",
       "Call:\n",
       " ranger::ranger(x = maybe_data_frame(x), y = y, mtry = min_cols(~4,      x), importance = ~\"impurity\", num.threads = 1, verbose = FALSE,      seed = sample.int(10^5, 1), probability = TRUE) \n",
       "\n",
       "Type:                             Probability estimation \n",
       "Number of trees:                  500 \n",
       "Sample size:                      538 \n",
       "Number of independent variables:  8 \n",
       "Mtry:                             4 \n",
       "Target node size:                 10 \n",
       "Variable importance mode:         impurity \n",
       "Splitrule:                        gini \n",
       "OOB prediction error (Brier s.):  0.1589301 "
      ]
     },
     "metadata": {},
     "output_type": "display_data"
    }
   ],
   "source": [
    "rf_fit"
   ]
  },
  {
   "cell_type": "markdown",
   "metadata": {
    "slideshow": {
     "slide_type": "slide"
    }
   },
   "source": [
    "# Recap"
   ]
  },
  {
   "cell_type": "code",
   "execution_count": 30,
   "metadata": {},
   "outputs": [],
   "source": [
    "set.seed(234589)\n",
    "# split the data into trainng (75%) and testing (25%)\n",
    "diabetes_split <- initial_split(diabetes_clean, prop = 0.7)"
   ]
  },
  {
   "cell_type": "code",
   "execution_count": 31,
   "metadata": {},
   "outputs": [],
   "source": [
    "diabetes_train <- training(diabetes_split)\n",
    "diabetes_test <- testing(diabetes_split)"
   ]
  },
  {
   "cell_type": "code",
   "execution_count": 32,
   "metadata": {},
   "outputs": [],
   "source": [
    "# define the recipe\n",
    "diabetes_recipe <- \n",
    "  # which consists of the formula (outcome ~ predictors)\n",
    "  recipe(diabetes ~ pregnant + glucose + pressure + triceps + \n",
    "           insulin + mass + pedigree + age, \n",
    "         data = diabetes_clean) %>%\n",
    "  # and some pre-processing steps\n",
    "  step_normalize(all_numeric()) %>%\n",
    "  step_knnimpute(all_predictors())"
   ]
  },
  {
   "cell_type": "code",
   "execution_count": null,
   "metadata": {},
   "outputs": [],
   "source": [
    "rf_model <- \n",
    "  # specify that the model is a random forest\n",
    "  rand_forest() %>%\n",
    "  # specify the `mtry` argument\n",
    "  set_args(mtry = 4) %>%\n",
    "  # select the engine/package that underlies the model\n",
    "  set_engine(\"ranger\", importance = \"impurity\") %>%\n",
    "  # choose either the continuous regression or binary classification mode\n",
    "  set_mode(\"classification\") "
   ]
  },
  {
   "cell_type": "code",
   "execution_count": null,
   "metadata": {},
   "outputs": [],
   "source": [
    "# set the workflow\n",
    "rf_workflow <- workflow() %>%\n",
    "  # add the recipe\n",
    "  add_recipe(diabetes_recipe) %>%\n",
    "  # add the model\n",
    "  add_model(rf_model)"
   ]
  },
  {
   "cell_type": "code",
   "execution_count": 33,
   "metadata": {},
   "outputs": [],
   "source": [
    "rf_fit <- fit(rf_workflow, diabetes_train)"
   ]
  },
  {
   "cell_type": "markdown",
   "metadata": {
    "slideshow": {
     "slide_type": "slide"
    }
   },
   "source": [
    "# Predict on the test set"
   ]
  },
  {
   "cell_type": "code",
   "execution_count": 34,
   "metadata": {
    "slideshow": {
     "slide_type": "fragment"
    }
   },
   "outputs": [
    {
     "data": {
      "text/html": [
       "<table>\n",
       "<caption>A tibble: 6 × 1</caption>\n",
       "<thead>\n",
       "\t<tr><th scope=col>.pred_class</th></tr>\n",
       "\t<tr><th scope=col>&lt;fct&gt;</th></tr>\n",
       "</thead>\n",
       "<tbody>\n",
       "\t<tr><td>neg</td></tr>\n",
       "\t<tr><td>neg</td></tr>\n",
       "\t<tr><td>neg</td></tr>\n",
       "\t<tr><td>pos</td></tr>\n",
       "\t<tr><td>neg</td></tr>\n",
       "\t<tr><td>neg</td></tr>\n",
       "</tbody>\n",
       "</table>\n"
      ],
      "text/latex": [
       "A tibble: 6 × 1\n",
       "\\begin{tabular}{l}\n",
       " .pred\\_class\\\\\n",
       " <fct>\\\\\n",
       "\\hline\n",
       "\t neg\\\\\n",
       "\t neg\\\\\n",
       "\t neg\\\\\n",
       "\t pos\\\\\n",
       "\t neg\\\\\n",
       "\t neg\\\\\n",
       "\\end{tabular}\n"
      ],
      "text/markdown": [
       "\n",
       "A tibble: 6 × 1\n",
       "\n",
       "| .pred_class &lt;fct&gt; |\n",
       "|---|\n",
       "| neg |\n",
       "| neg |\n",
       "| neg |\n",
       "| pos |\n",
       "| neg |\n",
       "| neg |\n",
       "\n"
      ],
      "text/plain": [
       "  .pred_class\n",
       "1 neg        \n",
       "2 neg        \n",
       "3 neg        \n",
       "4 pos        \n",
       "5 neg        \n",
       "6 neg        "
      ]
     },
     "metadata": {},
     "output_type": "display_data"
    }
   ],
   "source": [
    "# evaluate on test set\n",
    "diabetes_test_pred <- predict(rf_fit, diabetes_test)\n",
    "head(diabetes_test_pred)\n"
   ]
  },
  {
   "cell_type": "code",
   "execution_count": 35,
   "metadata": {},
   "outputs": [
    {
     "data": {
      "text/html": [
       "<table>\n",
       "<caption>A tibble: 6 × 2</caption>\n",
       "<thead>\n",
       "\t<tr><th scope=col>pred</th><th scope=col>truth</th></tr>\n",
       "\t<tr><th scope=col>&lt;fct&gt;</th><th scope=col>&lt;fct&gt;</th></tr>\n",
       "</thead>\n",
       "<tbody>\n",
       "\t<tr><td>neg</td><td>neg</td></tr>\n",
       "\t<tr><td>neg</td><td>pos</td></tr>\n",
       "\t<tr><td>neg</td><td>neg</td></tr>\n",
       "\t<tr><td>pos</td><td>pos</td></tr>\n",
       "\t<tr><td>neg</td><td>neg</td></tr>\n",
       "\t<tr><td>neg</td><td>neg</td></tr>\n",
       "</tbody>\n",
       "</table>\n"
      ],
      "text/latex": [
       "A tibble: 6 × 2\n",
       "\\begin{tabular}{ll}\n",
       " pred & truth\\\\\n",
       " <fct> & <fct>\\\\\n",
       "\\hline\n",
       "\t neg & neg\\\\\n",
       "\t neg & pos\\\\\n",
       "\t neg & neg\\\\\n",
       "\t pos & pos\\\\\n",
       "\t neg & neg\\\\\n",
       "\t neg & neg\\\\\n",
       "\\end{tabular}\n"
      ],
      "text/markdown": [
       "\n",
       "A tibble: 6 × 2\n",
       "\n",
       "| pred &lt;fct&gt; | truth &lt;fct&gt; |\n",
       "|---|---|\n",
       "| neg | neg |\n",
       "| neg | pos |\n",
       "| neg | neg |\n",
       "| pos | pos |\n",
       "| neg | neg |\n",
       "| neg | neg |\n",
       "\n"
      ],
      "text/plain": [
       "  pred truth\n",
       "1 neg  neg  \n",
       "2 neg  pos  \n",
       "3 neg  neg  \n",
       "4 pos  pos  \n",
       "5 neg  neg  \n",
       "6 neg  neg  "
      ]
     },
     "metadata": {},
     "output_type": "display_data"
    }
   ],
   "source": [
    "diabetes_test_pred <- diabetes_test_pred %>%\n",
    "  transmute(pred = .pred_class,\n",
    "            truth = diabetes_test$diabetes)\n",
    "head(diabetes_test_pred)"
   ]
  },
  {
   "cell_type": "markdown",
   "metadata": {
    "slideshow": {
     "slide_type": "fragment"
    }
   },
   "source": [
    "Calculate metrics"
   ]
  },
  {
   "cell_type": "code",
   "execution_count": 36,
   "metadata": {},
   "outputs": [
    {
     "data": {
      "text/html": [
       "<table>\n",
       "<caption>A tibble: 1 × 3</caption>\n",
       "<thead>\n",
       "\t<tr><th scope=col>.metric</th><th scope=col>.estimator</th><th scope=col>.estimate</th></tr>\n",
       "\t<tr><th scope=col>&lt;chr&gt;</th><th scope=col>&lt;chr&gt;</th><th scope=col>&lt;dbl&gt;</th></tr>\n",
       "</thead>\n",
       "<tbody>\n",
       "\t<tr><td>accuracy</td><td>binary</td><td>0.7521739</td></tr>\n",
       "</tbody>\n",
       "</table>\n"
      ],
      "text/latex": [
       "A tibble: 1 × 3\n",
       "\\begin{tabular}{lll}\n",
       " .metric & .estimator & .estimate\\\\\n",
       " <chr> & <chr> & <dbl>\\\\\n",
       "\\hline\n",
       "\t accuracy & binary & 0.7521739\\\\\n",
       "\\end{tabular}\n"
      ],
      "text/markdown": [
       "\n",
       "A tibble: 1 × 3\n",
       "\n",
       "| .metric &lt;chr&gt; | .estimator &lt;chr&gt; | .estimate &lt;dbl&gt; |\n",
       "|---|---|---|\n",
       "| accuracy | binary | 0.7521739 |\n",
       "\n"
      ],
      "text/plain": [
       "  .metric  .estimator .estimate\n",
       "1 accuracy binary     0.7521739"
      ]
     },
     "metadata": {},
     "output_type": "display_data"
    }
   ],
   "source": [
    "diabetes_test_pred %>%\n",
    "  accuracy(pred, truth)"
   ]
  },
  {
   "cell_type": "code",
   "execution_count": 37,
   "metadata": {},
   "outputs": [
    {
     "data": {
      "text/html": [
       "<table>\n",
       "<caption>A tibble: 1 × 3</caption>\n",
       "<thead>\n",
       "\t<tr><th scope=col>.metric</th><th scope=col>.estimator</th><th scope=col>.estimate</th></tr>\n",
       "\t<tr><th scope=col>&lt;chr&gt;</th><th scope=col>&lt;chr&gt;</th><th scope=col>&lt;dbl&gt;</th></tr>\n",
       "</thead>\n",
       "<tbody>\n",
       "\t<tr><td>spec</td><td>binary</td><td>0.6875</td></tr>\n",
       "</tbody>\n",
       "</table>\n"
      ],
      "text/latex": [
       "A tibble: 1 × 3\n",
       "\\begin{tabular}{lll}\n",
       " .metric & .estimator & .estimate\\\\\n",
       " <chr> & <chr> & <dbl>\\\\\n",
       "\\hline\n",
       "\t spec & binary & 0.6875\\\\\n",
       "\\end{tabular}\n"
      ],
      "text/markdown": [
       "\n",
       "A tibble: 1 × 3\n",
       "\n",
       "| .metric &lt;chr&gt; | .estimator &lt;chr&gt; | .estimate &lt;dbl&gt; |\n",
       "|---|---|---|\n",
       "| spec | binary | 0.6875 |\n",
       "\n"
      ],
      "text/plain": [
       "  .metric .estimator .estimate\n",
       "1 spec    binary     0.6875   "
      ]
     },
     "metadata": {},
     "output_type": "display_data"
    }
   ],
   "source": [
    "diabetes_test_pred %>%\n",
    "  spec(pred, truth)"
   ]
  },
  {
   "cell_type": "code",
   "execution_count": null,
   "metadata": {},
   "outputs": [],
   "source": []
  }
 ],
 "metadata": {
  "celltoolbar": "Slideshow",
  "kernelspec": {
   "display_name": "R",
   "language": "R",
   "name": "ir"
  },
  "language_info": {
   "codemirror_mode": "r",
   "file_extension": ".r",
   "mimetype": "text/x-r-source",
   "name": "R",
   "pygments_lexer": "r",
   "version": "4.0.3"
  },
  "rise": {
   "scroll": true
  }
 },
 "nbformat": 4,
 "nbformat_minor": 4
}
